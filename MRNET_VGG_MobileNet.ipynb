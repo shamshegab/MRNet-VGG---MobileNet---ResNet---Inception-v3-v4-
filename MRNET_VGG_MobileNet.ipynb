{
  "nbformat": 4,
  "nbformat_minor": 0,
  "metadata": {
    "colab": {
      "name": "MRNET-VGG-MobileNet",
      "provenance": [],
      "collapsed_sections": []
    },
    "kernelspec": {
      "name": "python3",
      "display_name": "Python 3"
    },
    "accelerator": "GPU"
  },
  "cells": [
    {
      "cell_type": "code",
      "metadata": {
        "id": "OnCKRH-hHph-",
        "colab_type": "code",
        "colab": {}
      },
      "source": [
        "import numpy as np\n",
        "import pandas as pd\n",
        "import os\n",
        "\n",
        "import tensorflow as tf\n",
        "from tensorflow.keras import optimizers\n",
        "from tensorflow.keras.models import Sequential, Model\n",
        "from tensorflow.keras.layers import Dense, Dropout, Flatten\n",
        "from tensorflow.keras.layers import Conv2D, MaxPooling2D, SeparableConv2D, DepthwiseConv2D, AveragePooling2D"
      ],
      "execution_count": null,
      "outputs": []
    },
    {
      "cell_type": "code",
      "metadata": {
        "id": "b3DVpY_XzWj8",
        "colab_type": "code",
        "colab": {
          "base_uri": "https://localhost:8080/",
          "height": 123
        },
        "outputId": "c5f10593-aae1-429e-cc52-2cb01dd0a60d"
      },
      "source": [
        "from google.colab import drive\n",
        "drive.mount('/content/drive')"
      ],
      "execution_count": null,
      "outputs": [
        {
          "output_type": "stream",
          "text": [
            "Go to this URL in a browser: https://accounts.google.com/o/oauth2/auth?client_id=947318989803-6bn6qk8qdgf4n4g3pfee6491hc0brc4i.apps.googleusercontent.com&redirect_uri=urn%3aietf%3awg%3aoauth%3a2.0%3aoob&response_type=code&scope=email%20https%3a%2f%2fwww.googleapis.com%2fauth%2fdocs.test%20https%3a%2f%2fwww.googleapis.com%2fauth%2fdrive%20https%3a%2f%2fwww.googleapis.com%2fauth%2fdrive.photos.readonly%20https%3a%2f%2fwww.googleapis.com%2fauth%2fpeopleapi.readonly\n",
            "\n",
            "Enter your authorization code:\n",
            "··········\n",
            "Mounted at /content/drive\n"
          ],
          "name": "stdout"
        }
      ]
    },
    {
      "cell_type": "code",
      "metadata": {
        "id": "WZR3Kikx_N8l",
        "colab_type": "code",
        "colab": {}
      },
      "source": [
        "!unzip \"/content/drive/My Drive/MRNet-v1.0\""
      ],
      "execution_count": null,
      "outputs": []
    },
    {
      "cell_type": "code",
      "metadata": {
        "id": "cz-sOox4x8Ps",
        "colab_type": "code",
        "colab": {
          "base_uri": "https://localhost:8080/",
          "height": 120
        },
        "outputId": "8573922c-8205-4777-b634-b4ad4d52c5da"
      },
      "source": [
        "def read_data(data_type, scan_type):\n",
        "  list = []\n",
        "  for filename in sorted(os.listdir(\"/content/MRNet-v1.0/\"+data_type+\"/\"+scan_type)):\n",
        "    if(filename != \".DS_Store\"):\n",
        "      instance = np.load(\"/content/MRNet-v1.0/\"+data_type+\"/\"+scan_type+\"/\" + filename)\n",
        "      mid = len(instance) // 2\n",
        "      instance = np.array([ instance[mid-1] , instance[mid] ,instance[mid+1]])\n",
        "      list.append(instance)\n",
        "  data = np.asarray(list)\n",
        "  data = np.moveaxis(data, 1, 3)\n",
        "  print(scan_type+data_type, data.shape)\n",
        "  return data\n",
        "\n",
        "def read_labels(data_type, scan_type):\n",
        "  path = \"/content/MRNet-v1.0/\"+data_type+\"-\"+scan_type + \".csv\"\n",
        "  df=pd.read_csv(path, sep=',',header=None)\n",
        "  labels = df.values\n",
        "  labels = labels[:,1]\n",
        "  print(scan_type+data_type, labels.shape)\n",
        "  return labels\n",
        "\n",
        "\n",
        "def read_data_singles(data_type, scan_type, label_scan_type):\n",
        "  list = []\n",
        "  path = \"/content/MRNet-v1.0/\"+data_type+\"-\"+label_scan_type + \".csv\"\n",
        "  df=pd.read_csv(path, sep=',',header=None)\n",
        "  labels = df.values\n",
        "  labels = labels[:,1]\n",
        "  single_labels = []\n",
        "  i=0\n",
        "  for filename in sorted(os.listdir(\"/content/MRNet-v1.0/\"+data_type+\"/\"+scan_type)):\n",
        "    if(filename != \".DS_Store\"):\n",
        "      instance = np.load(\"/content/MRNet-v1.0/\"+data_type+\"/\"+scan_type+\"/\" + filename)\n",
        "      for image in instance:\n",
        "        list.append(np.array(image))\n",
        "        single_labels.append(labels[i])\n",
        "      i += 1\n",
        "  data = np.asarray(list)\n",
        "  data = data[:, :, :, np.newaxis]\n",
        "  single_labels = np.asarray(single_labels)\n",
        "  print(\"single\")\n",
        "  print(scan_type+data_type, data.shape)\n",
        "  print(label_scan_type+data_type, single_labels.shape)\n",
        "  return data, single_labels\n",
        "\n",
        "single_sagittal_train_x, single_saggital_abnormal_train_y = read_data_singles(\"train\",\"sagittal\",\"abnormal\")\n",
        "single_sagittal_test_x, single_saggital_abnormal_test_y = read_data_singles(\"valid\",\"sagittal\",\"abnormal\")\n",
        "\n",
        "# print(\"Data: \")\n",
        "\n",
        "# sagittal_train_x = read_data(\"train\",\"sagittal\")\n",
        "# axial_train_x = read_data(\"train\",\"axial\")\n",
        "# coronal_train_x = read_data(\"train\",\"coronal\")\n",
        "\n",
        "# sagittal_test_x = read_data(\"valid\",\"sagittal\")\n",
        "# axial_test_x = read_data(\"valid\",\"axial\")\n",
        "# coronal_test_x = read_data(\"valid\",\"coronal\")\n",
        "\n",
        "# print(\"Labels: \")\n",
        "# abnormal_train_y = read_labels('train','abnormal')\n",
        "# acl_train_y = read_labels('train','acl')\n",
        "# meniscus_train_y = read_labels('train','meniscus')\n",
        "\n",
        "# abnornmal_test_y = read_labels('valid','abnormal')\n",
        "# acl_test_y = read_labels('valid','acl')\n",
        "# meniscus_test_y = read_labels('valid','meniscus')"
      ],
      "execution_count": null,
      "outputs": [
        {
          "output_type": "stream",
          "text": [
            "single\n",
            "sagittaltrain (34370, 256, 256, 1)\n",
            "abnormaltrain (34370,)\n",
            "single\n",
            "sagittalvalid (3663, 256, 256, 1)\n",
            "abnormalvalid (3663,)\n"
          ],
          "name": "stdout"
        }
      ]
    },
    {
      "cell_type": "code",
      "metadata": {
        "id": "PXmAeOOoH0Gc",
        "colab_type": "code",
        "colab": {
          "base_uri": "https://localhost:8080/",
          "height": 566
        },
        "outputId": "a4b86590-8b6c-458d-ad4d-2d640fb1ade1"
      },
      "source": [
        "#VGG-16 model\n",
        "vgg_model = Sequential()\n",
        "vgg_model.add(Conv2D(64, (3,3), activation='relu', padding=\"same\", input_shape=(256, 256, 1)))\n",
        "vgg_model.add(Conv2D(64, (3,3), activation='relu', padding=\"same\"))\n",
        "vgg_model.add(MaxPooling2D(pool_size=(2, 2)))\n",
        "vgg_model.add(Conv2D(128, (3,3), activation='relu', padding=\"same\"))\n",
        "vgg_model.add(Conv2D(128, (3,3), activation='relu', padding=\"same\"))\n",
        "vgg_model.add(MaxPooling2D(pool_size=(2, 2)))\n",
        "vgg_model.add(Conv2D(256, (3,3), activation='relu', padding=\"same\"))\n",
        "vgg_model.add(Conv2D(256, (3,3), activation='relu', padding=\"same\"))\n",
        "vgg_model.add(Conv2D(256, (3,3), activation='relu', padding=\"same\"))\n",
        "vgg_model.add(MaxPooling2D(pool_size=(2, 2)))\n",
        "vgg_model.add(Conv2D(512, (3,3), activation='relu', padding=\"same\"))\n",
        "vgg_model.add(Conv2D(512, (3,3), activation='relu', padding=\"same\"))\n",
        "vgg_model.add(Conv2D(512, (3,3), activation='relu', padding=\"same\"))\n",
        "vgg_model.add(MaxPooling2D(pool_size=(2, 2)))\n",
        "vgg_model.add(Conv2D(512, (3,3), activation='relu', padding=\"same\"))\n",
        "vgg_model.add(Conv2D(512, (3,3), activation='relu', padding=\"same\"))\n",
        "vgg_model.add(Conv2D(512, (3,3), activation='relu', padding=\"same\"))\n",
        "vgg_model.add(MaxPooling2D(pool_size=(2, 2)))\n",
        "\n",
        "vgg_model.add(Flatten())\n",
        "vgg_model.add(Dense(4096, activation='relu'))\n",
        "vgg_model.add(Dropout(0.5))\n",
        "vgg_model.add(Dense(4096, activation='relu'))\n",
        "vgg_model.add(Dropout(0.5))\n",
        "vgg_model.add(Dense(1, activation='sigmoid'))\n",
        "sgd = optimizers.SGD(lr=0.001, decay=1e-6, momentum=0.9, nesterov=True)\n",
        "vgg_model.compile(loss='binary_crossentropy', optimizer= sgd, metrics=['accuracy'])\n",
        "vgg_model.fit(single_sagittal_train_x, single_saggital_abnormal_train_y, batch_size=32, epochs=15, validation_split=0.1, \n",
        "              verbose=1,shuffle=True)\n",
        "vgg_model.evaluate(single_sagittal_test_x, single_saggital_abnormal_test_y, batch_size=32)"
      ],
      "execution_count": null,
      "outputs": [
        {
          "output_type": "stream",
          "text": [
            "Epoch 1/15\n",
            "967/967 [==============================] - 582s 602ms/step - loss: 0.3853 - accuracy: 0.8389 - val_loss: 0.3815 - val_accuracy: 0.8426\n",
            "Epoch 2/15\n",
            "967/967 [==============================] - 582s 601ms/step - loss: 0.3452 - accuracy: 0.8500 - val_loss: 0.3725 - val_accuracy: 0.8408\n",
            "Epoch 3/15\n",
            "967/967 [==============================] - 582s 602ms/step - loss: 0.3272 - accuracy: 0.8571 - val_loss: 0.3541 - val_accuracy: 0.8382\n",
            "Epoch 4/15\n",
            "967/967 [==============================] - 582s 602ms/step - loss: 0.3133 - accuracy: 0.8645 - val_loss: 0.3426 - val_accuracy: 0.8458\n",
            "Epoch 5/15\n",
            "967/967 [==============================] - 585s 605ms/step - loss: 0.3002 - accuracy: 0.8681 - val_loss: 0.3528 - val_accuracy: 0.8408\n",
            "Epoch 6/15\n",
            "967/967 [==============================] - 585s 605ms/step - loss: 0.2851 - accuracy: 0.8757 - val_loss: 0.3605 - val_accuracy: 0.8475\n",
            "Epoch 7/15\n",
            "967/967 [==============================] - 584s 604ms/step - loss: 0.2695 - accuracy: 0.8804 - val_loss: 0.3413 - val_accuracy: 0.8478\n",
            "Epoch 8/15\n",
            "967/967 [==============================] - 586s 607ms/step - loss: 0.2527 - accuracy: 0.8891 - val_loss: 0.3331 - val_accuracy: 0.8411\n",
            "Epoch 9/15\n",
            "967/967 [==============================] - 586s 606ms/step - loss: 0.2342 - accuracy: 0.8990 - val_loss: 0.4092 - val_accuracy: 0.8493\n",
            "Epoch 10/15\n",
            "967/967 [==============================] - 587s 607ms/step - loss: 0.2121 - accuracy: 0.9089 - val_loss: 0.4495 - val_accuracy: 0.8336\n",
            "Epoch 11/15\n",
            "967/967 [==============================] - 587s 607ms/step - loss: 0.1904 - accuracy: 0.9190 - val_loss: 0.4575 - val_accuracy: 0.8254\n",
            "Epoch 12/15\n",
            "967/967 [==============================] - 586s 606ms/step - loss: 0.1655 - accuracy: 0.9309 - val_loss: 0.4388 - val_accuracy: 0.8182\n",
            "Epoch 13/15\n",
            "967/967 [==============================] - 585s 605ms/step - loss: 0.1426 - accuracy: 0.9417 - val_loss: 0.5078 - val_accuracy: 0.8126\n",
            "Epoch 14/15\n",
            "967/967 [==============================] - 584s 604ms/step - loss: 0.1193 - accuracy: 0.9513 - val_loss: 0.6046 - val_accuracy: 0.8216\n",
            "Epoch 15/15\n",
            "967/967 [==============================] - 582s 602ms/step - loss: 0.1012 - accuracy: 0.9600 - val_loss: 0.6550 - val_accuracy: 0.8359\n",
            "115/115 [==============================] - 24s 208ms/step - loss: 0.8408 - accuracy: 0.8444\n"
          ],
          "name": "stdout"
        },
        {
          "output_type": "execute_result",
          "data": {
            "text/plain": [
              "[0.8407562375068665, 0.8443898558616638]"
            ]
          },
          "metadata": {
            "tags": []
          },
          "execution_count": 4
        }
      ]
    },
    {
      "cell_type": "code",
      "metadata": {
        "id": "8Uav8rwou-lX",
        "colab_type": "code",
        "colab": {
          "base_uri": "https://localhost:8080/",
          "height": 908
        },
        "outputId": "da8cc157-8679-498b-f4b0-17e55c4ef80e"
      },
      "source": [
        "#MobileNet model\n",
        "mobile_model = Sequential()\n",
        "mobile_model.add(Conv2D(32, (3,3), strides=(2,2), activation='relu', padding = \"same\", input_shape=(256, 256, 1)))\n",
        "mobile_model.add(DepthwiseConv2D((3,3), depth_multiplier=1, activation='relu', padding = \"same\"))\n",
        "mobile_model.add(Conv2D(64, (1,1), activation='relu', padding = \"same\"))\n",
        "mobile_model.add(DepthwiseConv2D((3,3), strides=(2,2), depth_multiplier=1, activation='relu', padding = \"same\"))\n",
        "mobile_model.add(Conv2D(128, (1,1), activation='relu', padding = \"same\"))\n",
        "mobile_model.add(DepthwiseConv2D((3,3), depth_multiplier=1, activation='relu', padding = \"same\"))\n",
        "mobile_model.add(Conv2D(128, (1,1), activation='relu', padding = \"same\"))\n",
        "mobile_model.add(DepthwiseConv2D((3,3), strides=(2,2), depth_multiplier=1, activation='relu', padding = \"same\"))\n",
        "mobile_model.add(Conv2D(256, (1,1), activation='relu', padding = \"same\"))\n",
        "mobile_model.add(DepthwiseConv2D((3,3), depth_multiplier=1, activation='relu', padding = \"same\"))\n",
        "mobile_model.add(Conv2D(256, (1,1), activation='relu', padding = \"same\"))\n",
        "mobile_model.add(DepthwiseConv2D((3,3), strides=(2,2), depth_multiplier=1, activation='relu', padding = \"same\"))\n",
        "mobile_model.add(Conv2D(512, (1,1), activation='relu', padding = \"same\"))\n",
        "\n",
        "mobile_model.add(DepthwiseConv2D((3,3), depth_multiplier=1, activation='relu', padding = \"same\"))\n",
        "mobile_model.add(Conv2D(512, (1,1), activation='relu', padding = \"same\"))\n",
        "mobile_model.add(DepthwiseConv2D((3,3), depth_multiplier=1, activation='relu', padding = \"same\"))\n",
        "mobile_model.add(Conv2D(512, (1,1), activation='relu', padding = \"same\"))\n",
        "mobile_model.add(DepthwiseConv2D((3,3), depth_multiplier=1, activation='relu', padding = \"same\"))\n",
        "mobile_model.add(Conv2D(512, (1,1), activation='relu', padding = \"same\"))\n",
        "mobile_model.add(DepthwiseConv2D((3,3), depth_multiplier=1, activation='relu', padding = \"same\"))\n",
        "mobile_model.add(Conv2D(512, (1,1), activation='relu', padding = \"same\"))\n",
        "mobile_model.add(DepthwiseConv2D((3,3), depth_multiplier=1, activation='relu', padding = \"same\"))\n",
        "mobile_model.add(Conv2D(512, (1,1), activation='relu', padding = \"same\"))\n",
        "\n",
        "\n",
        "mobile_model.add(DepthwiseConv2D((3,3), strides=(2,2), depth_multiplier=1, activation='relu', padding = \"same\"))\n",
        "mobile_model.add(Conv2D(1024, (1,1), activation='relu', padding = \"same\"))\n",
        "mobile_model.add(DepthwiseConv2D((3,3), depth_multiplier=1, activation='relu', padding = \"same\"))\n",
        "mobile_model.add(Conv2D(1024, (1,1), activation='relu', padding = \"same\"))\n",
        "mobile_model.add(AveragePooling2D((8,8)))\n",
        "mobile_model.add(Flatten())\n",
        "mobile_model.add(Dense(1000, activation='relu'))\n",
        "mobile_model.add(Dropout(0.5))\n",
        "mobile_model.add(Dense(1, activation='sigmoid'))\n",
        "\n",
        "mobile_model.compile(loss='binary_crossentropy', optimizer= \"adam\", metrics=['accuracy'])\n",
        "mobile_model.fit(single_sagittal_train_x, single_saggital_abnormal_train_y, batch_size=32, epochs=25, validation_split=0.1, verbose=1,shuffle=True)\n",
        "mobile_model.evaluate(single_sagittal_test_x, single_saggital_abnormal_test_y, batch_size=32)"
      ],
      "execution_count": null,
      "outputs": [
        {
          "output_type": "stream",
          "text": [
            "Epoch 1/25\n",
            "967/967 [==============================] - 198s 205ms/step - loss: 0.4547 - accuracy: 0.8337 - val_loss: 0.4486 - val_accuracy: 0.8350\n",
            "Epoch 2/25\n",
            "967/967 [==============================] - 197s 203ms/step - loss: 0.4526 - accuracy: 0.8344 - val_loss: 0.4468 - val_accuracy: 0.8350\n",
            "Epoch 3/25\n",
            "967/967 [==============================] - 197s 204ms/step - loss: 0.4513 - accuracy: 0.8344 - val_loss: 0.4470 - val_accuracy: 0.8350\n",
            "Epoch 4/25\n",
            "967/967 [==============================] - 196s 203ms/step - loss: 0.4516 - accuracy: 0.8344 - val_loss: 0.4469 - val_accuracy: 0.8350\n",
            "Epoch 5/25\n",
            "967/967 [==============================] - 195s 201ms/step - loss: 0.4506 - accuracy: 0.8344 - val_loss: 0.4477 - val_accuracy: 0.8350\n",
            "Epoch 6/25\n",
            "967/967 [==============================] - 196s 202ms/step - loss: 0.4506 - accuracy: 0.8344 - val_loss: 0.4468 - val_accuracy: 0.8350\n",
            "Epoch 7/25\n",
            "967/967 [==============================] - 195s 202ms/step - loss: 0.4502 - accuracy: 0.8344 - val_loss: 0.4466 - val_accuracy: 0.8350\n",
            "Epoch 8/25\n",
            "967/967 [==============================] - 195s 202ms/step - loss: 0.4499 - accuracy: 0.8344 - val_loss: 0.4463 - val_accuracy: 0.8350\n",
            "Epoch 9/25\n",
            "967/967 [==============================] - 195s 202ms/step - loss: 0.4501 - accuracy: 0.8344 - val_loss: 0.4507 - val_accuracy: 0.8350\n",
            "Epoch 10/25\n",
            "967/967 [==============================] - 196s 203ms/step - loss: 0.4504 - accuracy: 0.8344 - val_loss: 0.4472 - val_accuracy: 0.8350\n",
            "Epoch 11/25\n",
            "967/967 [==============================] - 195s 202ms/step - loss: 0.4498 - accuracy: 0.8344 - val_loss: 0.4468 - val_accuracy: 0.8350\n",
            "Epoch 12/25\n",
            "967/967 [==============================] - 188s 194ms/step - loss: 0.4505 - accuracy: 0.8344 - val_loss: 0.4467 - val_accuracy: 0.8350\n",
            "Epoch 13/25\n",
            "967/967 [==============================] - 195s 202ms/step - loss: 0.4499 - accuracy: 0.8344 - val_loss: 0.4465 - val_accuracy: 0.8350\n",
            "Epoch 14/25\n",
            "967/967 [==============================] - 196s 203ms/step - loss: 0.4508 - accuracy: 0.8344 - val_loss: 0.4477 - val_accuracy: 0.8350\n",
            "Epoch 15/25\n",
            "967/967 [==============================] - 195s 202ms/step - loss: 0.4504 - accuracy: 0.8344 - val_loss: 0.4463 - val_accuracy: 0.8350\n",
            "Epoch 16/25\n",
            "967/967 [==============================] - 196s 203ms/step - loss: 0.4505 - accuracy: 0.8344 - val_loss: 0.4469 - val_accuracy: 0.8350\n",
            "Epoch 17/25\n",
            "967/967 [==============================] - 196s 202ms/step - loss: 0.4506 - accuracy: 0.8344 - val_loss: 0.4464 - val_accuracy: 0.8350\n",
            "Epoch 18/25\n",
            "967/967 [==============================] - 196s 203ms/step - loss: 0.4505 - accuracy: 0.8344 - val_loss: 0.4463 - val_accuracy: 0.8350\n",
            "Epoch 19/25\n",
            "967/967 [==============================] - 195s 202ms/step - loss: 0.4499 - accuracy: 0.8344 - val_loss: 0.4469 - val_accuracy: 0.8350\n",
            "Epoch 20/25\n",
            "967/967 [==============================] - 196s 203ms/step - loss: 0.4500 - accuracy: 0.8344 - val_loss: 0.4464 - val_accuracy: 0.8350\n",
            "Epoch 21/25\n",
            "967/967 [==============================] - 196s 203ms/step - loss: 0.4502 - accuracy: 0.8344 - val_loss: 0.4463 - val_accuracy: 0.8350\n",
            "Epoch 22/25\n",
            "967/967 [==============================] - 194s 200ms/step - loss: 0.4502 - accuracy: 0.8344 - val_loss: 0.4468 - val_accuracy: 0.8350\n",
            "Epoch 23/25\n",
            "967/967 [==============================] - 196s 203ms/step - loss: 0.4499 - accuracy: 0.8344 - val_loss: 0.4464 - val_accuracy: 0.8350\n",
            "Epoch 24/25\n",
            "967/967 [==============================] - 195s 202ms/step - loss: 0.4501 - accuracy: 0.8344 - val_loss: 0.4465 - val_accuracy: 0.8350\n",
            "Epoch 25/25\n",
            "967/967 [==============================] - 195s 202ms/step - loss: 0.4499 - accuracy: 0.8344 - val_loss: 0.4467 - val_accuracy: 0.8350\n",
            "115/115 [==============================] - 5s 39ms/step - loss: 0.4894 - accuracy: 0.8100\n"
          ],
          "name": "stdout"
        },
        {
          "output_type": "execute_result",
          "data": {
            "text/plain": [
              "[0.48937174677848816, 0.8099918365478516]"
            ]
          },
          "metadata": {
            "tags": []
          },
          "execution_count": 5
        }
      ]
    },
    {
      "cell_type": "code",
      "metadata": {
        "id": "pWOWPlhIs7eU",
        "colab_type": "code",
        "colab": {}
      },
      "source": [
        "stacked_train_y = np.vstack((abnormal_train_y,acl_train_y))\n",
        "stacked_train_y = np.vstack((stacked_train_y,meniscus_train_y)).T\n",
        "\n",
        "stacked_test_y = np.vstack((abnornmal_test_y,acl_test_y))\n",
        "stacked_test_y = np.vstack((stacked_test_y,meniscus_test_y)).T"
      ],
      "execution_count": null,
      "outputs": []
    }
  ]
}