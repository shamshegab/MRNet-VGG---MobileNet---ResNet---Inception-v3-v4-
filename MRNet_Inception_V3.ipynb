{
  "nbformat": 4,
  "nbformat_minor": 0,
  "metadata": {
    "colab": {
      "name": "MRNet Inception V3",
      "provenance": [],
      "collapsed_sections": [],
      "machine_shape": "hm"
    },
    "kernelspec": {
      "name": "python3",
      "display_name": "Python 3"
    },
    "accelerator": "GPU"
  },
  "cells": [
    {
      "cell_type": "code",
      "metadata": {
        "id": "oyJY4KRNrVQ-",
        "colab_type": "code",
        "colab": {}
      },
      "source": [
        "import keras\n",
        "from keras.layers.core import Layer\n",
        "import keras.backend as K\n",
        "import tensorflow as tf\n",
        "from keras.models import Model\n",
        "from keras.layers import Conv2D, MaxPool2D,  \\\n",
        "    Dropout, Dense, Input, concatenate,      \\\n",
        "    GlobalAveragePooling2D, AveragePooling2D,\\\n",
        "    Flatten,BatchNormalization,Activation,MaxPooling2D\n",
        "\n",
        "import cv2 \n",
        "import numpy as np \n",
        "\n",
        "import pandas as pd\n",
        "\n",
        "from keras.datasets import cifar10 \n",
        "from keras import backend as K \n",
        "from keras.utils import np_utils\n",
        "import os\n",
        "import math \n",
        "from keras import optimizers\n",
        "from keras.callbacks import LearningRateScheduler,ModelCheckpoint"
      ],
      "execution_count": null,
      "outputs": []
    },
    {
      "cell_type": "code",
      "metadata": {
        "id": "o7ayA6mvRNut",
        "colab_type": "code",
        "colab": {
          "base_uri": "https://localhost:8080/",
          "height": 148
        },
        "outputId": "2db306f7-4331-4d5c-bc78-44df2ab087e4"
      },
      "source": [
        "#  from google.colab import drive\n",
        "#  drive.mount('/content/drive')\n",
        "!unzip \"/content/drive/My Drive/MRNet-v1.0\" "
      ],
      "execution_count": null,
      "outputs": [
        {
          "output_type": "stream",
          "text": [
            "Archive:  /content/drive/My Drive/MRNet-v1.0.zip\n",
            "warning [/content/drive/My Drive/MRNet-v1.0.zip]:  4294967296 extra bytes at beginning or within zipfile\n",
            "  (attempting to process anyway)\n",
            "file #1:  bad zipfile offset (local header sig):  4294967296\n",
            "  (attempting to re-compensate)\n",
            "replace MRNet-v1.0/valid-abnormal.csv? [y]es, [n]o, [A]ll, [N]one, [r]ename: "
          ],
          "name": "stdout"
        }
      ]
    },
    {
      "cell_type": "code",
      "metadata": {
        "id": "OHCLnkMARfXu",
        "colab_type": "code",
        "colab": {}
      },
      "source": [
        "def read_data(data_type, scan_type):\n",
        "  list = []\n",
        "  for filename in sorted(os.listdir(\"/content/MRNet-v1.0/\"+data_type+\"/\"+scan_type)):\n",
        "    if(filename != \".DS_Store\"):\n",
        "      instance = np.load(\"/content/MRNet-v1.0/\"+data_type+\"/\"+scan_type+\"/\" + filename)\n",
        "      mid = len(instance) // 2\n",
        "      instance = np.array([ instance[mid-1] , instance[mid] ,instance[mid+1]])\n",
        "      list.append(instance)\n",
        "  data = np.asarray(list)\n",
        "  data = np.moveaxis(data, 1, 3)\n",
        "  print(scan_type+data_type, data.shape)\n",
        "  return data\n",
        "\n",
        "def read_labels(data_type, scan_type):\n",
        "  path = \"/content/MRNet-v1.0/\"+data_type+\"-\"+scan_type + \".csv\"\n",
        "  df=pd.read_csv(path, sep=',',header=None)\n",
        "  labels = df.values\n",
        "  labels = labels[:,1]\n",
        "  print(scan_type+data_type, labels.shape)\n",
        "  return labels\n",
        "\n",
        "print(\"Data: \")\n",
        "sagittal_train_x = read_data(\"train\",\"sagittal\")\n",
        "axial_train_x = read_data(\"train\",\"axial\")\n",
        "coronal_train_x = read_data(\"train\",\"coronal\")\n",
        "\n",
        "sagittal_test_x = read_data(\"valid\",\"sagittal\")\n",
        "axial_test_x = read_data(\"valid\",\"axial\")\n",
        "coronal_test_x = read_data(\"valid\",\"coronal\")\n",
        "\n",
        "print(\"Labels: \")\n",
        "abnormal_train_y = read_labels('train','abnormal')\n",
        "acl_train_y = read_labels('train','acl')\n",
        "meniscus_train_y = read_labels('train','meniscus')\n",
        "\n",
        "abnornmal_test_y = read_labels('valid','abnormal')\n",
        "acl_test_y = read_labels('valid','acl')\n",
        "meniscus_test_y = read_labels('valid','meniscus')\n",
        "\n",
        "stacked_labels_train = np.vstack((abnormal_train_y,acl_train_y))\n",
        "stacked_labels_train = np.vstack((stacked_labels_train,meniscus_train_y)).T\n",
        "\n",
        "stacked_labels_test = np.vstack((abnornmal_test_y,acl_test_y))\n",
        "stacked_labels_test = np.vstack((stacked_labels_test,meniscus_test_y)).T"
      ],
      "execution_count": null,
      "outputs": []
    },
    {
      "cell_type": "code",
      "metadata": {
        "id": "2kMfy-BmZoeU",
        "colab_type": "code",
        "colab": {}
      },
      "source": [
        "def read_data_singles(data_type, scan_type, label_scan_type):\n",
        "  list = []\n",
        "  path = \"/content/MRNet-v1.0/\"+data_type+\"-\"+label_scan_type + \".csv\"\n",
        "  df=pd.read_csv(path, sep=',',header=None)\n",
        "  labels = df.values\n",
        "  labels = labels[:,1]\n",
        "  single_labels = []\n",
        "  i=0\n",
        "  for filename in sorted(os.listdir(\"/content/MRNet-v1.0/\"+data_type+\"/\"+scan_type)):\n",
        "    if(filename != \".DS_Store\"):\n",
        "      instance = np.load(\"/content/MRNet-v1.0/\"+data_type+\"/\"+scan_type+\"/\" + filename)\n",
        "      for image in instance:\n",
        "        list.append(np.array(image))\n",
        "        single_labels.append(labels[i])\n",
        "      i += 1\n",
        "  data = np.asarray(list)\n",
        "  single_labels = np.asarray(single_labels)\n",
        "  print(\"single\")\n",
        "  print(scan_type+data_type, data.shape)\n",
        "  print(label_scan_type+data_type, single_labels.shape)\n",
        "  return data, single_labels\n",
        "\n",
        "single_sagittal_train_x, single_saggital_abnormal_train_y = read_data_singles(\"train\",\"sagittal\",\"abnormal\")\n",
        "single_sagittal_test_x, single_saggital_abnormal_test_y = read_data_singles(\"valid\",\"sagittal\",\"abnormal\")"
      ],
      "execution_count": null,
      "outputs": []
    },
    {
      "cell_type": "code",
      "metadata": {
        "id": "1VhG7b6r8Lml",
        "colab_type": "code",
        "colab": {}
      },
      "source": [
        "\n",
        "def conv2d_bn(x,filters,num_row,num_col, padding='same', strides=(1, 1), name=None):\n",
        "   \n",
        "    x = Conv2D(\n",
        "        filters, (num_row, num_col),\n",
        "        strides=strides,\n",
        "        padding=padding,\n",
        "        use_bias=False\n",
        "        )(x)\n",
        "\n",
        "    x = BatchNormalization(axis = 3)(x)\n",
        "    x = Activation('relu', name=name)(x)\n",
        "    return x"
      ],
      "execution_count": null,
      "outputs": []
    },
    {
      "cell_type": "code",
      "metadata": {
        "id": "fPk4rjtVzJKi",
        "colab_type": "code",
        "colab": {}
      },
      "source": [
        "def inception_a(x,a1,a2,a3,b1,b2,b3,lname):\n",
        "  b1x1_a1=conv2d_bn(x, a1, 1, 1)\n",
        "  b3x3_a1_b1=conv2d_bn(b1x1_a1, b1, 3, 3)\n",
        "  b3x3_a1_b2=conv2d_bn(b3x3_a1_b1, b1, 3, 3)\n",
        "\n",
        "  b1x1_a2=conv2d_bn(x, a2, 1, 1)\n",
        "  b3x3_a2_b1=b3x3_a1_b1=conv2d_bn(b1x1_a2, b2, 3, 3)\n",
        "\n",
        "  bpool = AveragePooling2D((3, 3),strides=(1, 1),padding='same')(x)\n",
        "  bpool_b1x1 = conv2d_bn(bpool, b3, 1, 1)\n",
        "\n",
        "  b1x1_a3=conv2d_bn(x, a3, 1, 1)\n",
        "\n",
        "  x = concatenate([b3x3_a1_b2, b3x3_a2_b1, bpool_b1x1, b1x1_a3], axis=3,name=lname)\n",
        "  return x\n",
        "\n",
        "\n",
        "def reduction_a(x):\n",
        "  branch3x3 = conv2d_bn(x, 384, 3, 3, strides=(2, 2), padding='valid')\n",
        "  branch3x3dbl = conv2d_bn(x, 64, 1, 1)\n",
        "  branch3x3dbl = conv2d_bn(branch3x3dbl, 96, 3, 3)\n",
        "  branch3x3dbl = conv2d_bn(branch3x3dbl, 96, 3, 3, strides=(2, 2), padding='valid')\n",
        "  branch_pool = MaxPooling2D((3, 3), strides=(2, 2))(x)\n",
        "  x = concatenate([branch3x3, branch3x3dbl, branch_pool],axis=3,name='reduction_a')\n",
        "  return x\n",
        "\n",
        "\n",
        "def inception_b(x,a1,b1,b12,a2,b2,b22,b3,a3,lname):\n",
        "\n",
        "  b1x1_a1 = conv2d_bn(x, a1, 1, 1)\n",
        "  b7x1_a1_b1 = conv2d_bn(b1x1_a1, b1, 7, 1)\n",
        "  b1x7_a1_b1 = conv2d_bn(b7x1_a1_b1, b1, 1, 7)\n",
        "  b7x1_a1_b2 = conv2d_bn(b1x7_a1_b1, b1, 7, 1)\n",
        "  b1x7_a1_b2 = conv2d_bn(b7x1_a1_b2, b12, 1, 7)\n",
        "\n",
        "  b1x1_a2 = conv2d_bn(x, a2, 1, 1)\n",
        "  b1x7_a2_b1 = conv2d_bn(b1x1_a2, b2, 1, 7)\n",
        "  b7x1_a2_b2 = conv2d_bn(b1x7_a2_b1, b22, 7, 1)\n",
        "\n",
        "  bpool = AveragePooling2D((3, 3),strides=(1, 1),padding='same')(x)\n",
        "  bpool_1x1 = conv2d_bn(bpool, b3, 1, 1)\n",
        "\n",
        "  b1x1_a3 = conv2d_bn(x, a3, 1, 1)\n",
        "\n",
        "  x = concatenate([b1x7_a1_b2, b7x1_a2_b2, bpool_1x1, b1x1_a3],axis=3,name=lname)\n",
        "\n",
        "  return x\n",
        "\n",
        "def reduction_b(x):\n",
        "  branch3x3 = conv2d_bn(x, 192, 1, 1)\n",
        "  branch3x3 = conv2d_bn(branch3x3, 320, 3, 3,strides=(2, 2), padding='valid')\n",
        "  branch7x7x3 = conv2d_bn(x, 192, 1, 1)\n",
        "  branch7x7x3 = conv2d_bn(branch7x7x3, 192, 1, 7)\n",
        "  branch7x7x3 = conv2d_bn(branch7x7x3, 192, 7, 1)\n",
        "  branch7x7x3 = conv2d_bn(branch7x7x3, 192, 3, 3, strides=(2, 2), padding='valid')\n",
        "  branch_pool = MaxPool2D((3, 3), strides=(2, 2))(x)\n",
        "  x = concatenate([branch3x3, branch7x7x3, branch_pool],axis=3,name='reduction_b')\n",
        "  return x\n",
        "\n",
        "def inception_c(x,i):\n",
        "    branch1x1 = conv2d_bn(x, 320, 1, 1)\n",
        "    branch3x3 = conv2d_bn(x, 384, 1, 1)\n",
        "    branch3x3_1 = conv2d_bn(branch3x3, 384, 1, 3)\n",
        "    branch3x3_2 = conv2d_bn(branch3x3, 384, 3, 1)\n",
        "    branch3x3 = concatenate([branch3x3_1, branch3x3_2],axis=3,name='mixed9_' + str(i))\n",
        "\n",
        "    branch3x3dbl = conv2d_bn(x, 448, 1, 1)\n",
        "    branch3x3dbl = conv2d_bn(branch3x3dbl, 384, 3, 3)\n",
        "    branch3x3dbl_1 = conv2d_bn(branch3x3dbl, 384, 1, 3)\n",
        "    branch3x3dbl_2 = conv2d_bn(branch3x3dbl, 384, 3, 1)\n",
        "    branch3x3dbl = concatenate([branch3x3dbl_1, branch3x3dbl_2], axis=3)\n",
        "\n",
        "    branch_pool = AveragePooling2D((3, 3), strides=(1, 1), padding='same')(x)\n",
        "    branch_pool = conv2d_bn(branch_pool, 192, 1, 1)\n",
        "    x = concatenate([branch1x1, branch3x3, branch3x3dbl, branch_pool],axis=3,name='inception_c' + str(i))\n",
        "    return x\n",
        "\n",
        "def aux_output(x):\n",
        "  x1 = AveragePooling2D((5, 5), strides=3)(x)\n",
        "  x1 = Conv2D(128, (1, 1), padding='same', activation='relu')(x1)\n",
        "  x1 = Flatten()(x1)\n",
        "  x1 = Dense(1024, activation='relu')(x1)\n",
        "  x1 = Dropout(0.7)(x1)\n",
        "  x1 = Dense(1, activation='sigmoid', name='auxilliary_output_1')(x1)\n",
        "  return x1\n",
        "\n",
        "def stem(input_layer):\n",
        "  x = conv2d_bn(input_layer, 32, 3, 3, strides=(2, 2), padding='valid')\n",
        "  x = conv2d_bn(x, 32, 3, 3, padding='valid')\n",
        "  x = conv2d_bn(x, 64, 3, 3)\n",
        "  x = MaxPool2D((3, 3), padding='same', strides=(2, 2), name='max_pool_1_3x3/2')(x)\n",
        "  x = conv2d_bn(x, 80, 1, 1, padding='valid')\n",
        "  x = conv2d_bn(x, 192, 3, 3, padding='valid')\n",
        "  x = MaxPool2D((3, 3), padding='same', strides=(2, 2), name='max_pool_2_3x3/2')(x)\n",
        "  return x"
      ],
      "execution_count": null,
      "outputs": []
    },
    {
      "cell_type": "code",
      "metadata": {
        "id": "Ax-tFSrmraxG",
        "colab_type": "code",
        "colab": {}
      },
      "source": [
        "def inception_v3(input_shape):\n",
        "  input_layer = Input(shape=input_shape)\n",
        "\n",
        "  x=stem(input_layer)\n",
        "\n",
        "  x=inception_a(x,64,48,64,96,64,32,'inception_a1')\n",
        "\n",
        "  x=inception_a(x,64,48,64,96,64,64,'inception_a2')\n",
        "\n",
        "  x=inception_a(x,64,48,64,96,64,64,'inception_a3')\n",
        "\n",
        "  x=reduction_a(x)\n",
        "\n",
        "  x=inception_b(x,128,128,192,128,128,192,192,192,'inception_b1')\n",
        "\n",
        "  for i in range(2):\n",
        "    x=inception_b(x,160,160,192,160,160,192,192,192,('inception_b'+str(i+2)+\"\"))\n",
        "\n",
        "  x=inception_b(x,192,192,192,192,192,192,192,192,'inception_b5')\n",
        "\n",
        "\n",
        "  x1=aux_output(x)\n",
        "\n",
        "  x=reduction_b(x)\n",
        "\n",
        "\n",
        "  for i in range(2):\n",
        "    x=inception_c(x,i+1)\n",
        "\n",
        "  x = GlobalAveragePooling2D(name='avg_pool_5_3x3/1')(x)\n",
        "  x = Dense(2048, activation='relu')(x)\n",
        "  x = Dropout(0.4)(x)\n",
        "  x = Dense(1, activation='sigmoid', name='output')(x)\n",
        "\n",
        "  return input_layer,x,x1"
      ],
      "execution_count": null,
      "outputs": []
    },
    {
      "cell_type": "code",
      "metadata": {
        "id": "898S9q9D5fuQ",
        "colab_type": "code",
        "colab": {}
      },
      "source": [
        "input_shape=(256, 256, 1)\n",
        "inp,x,x1=inception_v3(input_shape)\n",
        "Sagital_abnormal = Model(inp, [x, x1], name='inception_v3')\n"
      ],
      "execution_count": null,
      "outputs": []
    },
    {
      "cell_type": "code",
      "metadata": {
        "id": "31y7xjws5yNE",
        "colab_type": "code",
        "colab": {}
      },
      "source": [
        "Sagital_abnormal.summary()"
      ],
      "execution_count": null,
      "outputs": []
    },
    {
      "cell_type": "code",
      "metadata": {
        "id": "hW5zODi8bb0J",
        "colab_type": "code",
        "colab": {}
      },
      "source": [
        "single_sagittal_train_x=single_sagittal_train_x.reshape((-1,256,256,1))\n",
        "single_sagittal_train_x.shape"
      ],
      "execution_count": null,
      "outputs": []
    },
    {
      "cell_type": "code",
      "metadata": {
        "id": "yrwGhAfc51Gq",
        "colab_type": "code",
        "colab": {}
      },
      "source": [
        "\n",
        "sgd = optimizers.SGD(lr=0.001, decay=1e-6, momentum=0.9, nesterov=True)\n",
        "Sagital_abnormal.compile(loss=['binary_crossentropy', 'binary_crossentropy'], loss_weights=[1, 0.2], optimizer=sgd, metrics=['accuracy'])\n",
        "checkpoint = ModelCheckpoint('drive/My Drive/sagital_acl.h5', monitor='val_output_accuracy', verbose=1, save_best_only=True, mode='max')\n",
        "Sagital_abnormal.fit(\n",
        "    x=single_sagittal_train_x,\n",
        "    y=[single_saggital_abnormal_train_y,single_saggital_abnormal_train_y],\n",
        "    epochs=15,\n",
        "    verbose=1,\n",
        "    validation_split=0.1,\n",
        "    batch_size=32,\n",
        "    callbacks=[checkpoint]  \n",
        "    \n",
        ")"
      ],
      "execution_count": null,
      "outputs": []
    },
    {
      "cell_type": "code",
      "metadata": {
        "id": "RpOD10k2UV3Z",
        "colab_type": "code",
        "colab": {
          "base_uri": "https://localhost:8080/",
          "height": 34
        },
        "outputId": "d25d9c53-843c-4a5e-9855-ca668b619316"
      },
      "source": [
        "\n",
        "\n",
        "score = Sagital_abnormal.evaluate(sagittal_test_x, [abnornmal_test_y,abnornmal_test_y], verbose=0)\n",
        "print( score)"
      ],
      "execution_count": null,
      "outputs": [
        {
          "output_type": "stream",
          "text": [
            "[0.5117226541042328, 0.3861662745475769, 0.3705002963542938, 0.8166666626930237, 0.8416666388511658]\n"
          ],
          "name": "stdout"
        }
      ]
    },
    {
      "cell_type": "code",
      "metadata": {
        "id": "DqtNs31FzMzP",
        "colab_type": "code",
        "colab": {
          "base_uri": "https://localhost:8080/",
          "height": 34
        },
        "outputId": "d2fc7bb7-1f0b-4052-84b6-3b20bff9ed49"
      },
      "source": [
        "print(model.metrics_names)"
      ],
      "execution_count": null,
      "outputs": [
        {
          "output_type": "stream",
          "text": [
            "['loss', 'output_loss', 'auxilliary_output_1_loss', 'output_accuracy', 'auxilliary_output_1_accuracy']\n"
          ],
          "name": "stdout"
        }
      ]
    },
    {
      "cell_type": "code",
      "metadata": {
        "id": "ai-h_7RuKyzO",
        "colab_type": "code",
        "colab": {
          "base_uri": "https://localhost:8080/",
          "height": 34
        },
        "outputId": "6eb23f1a-2820-4aa9-e714-72d17072f960"
      },
      "source": [
        "Sagital_abnormal.load_weights('drive/My Drive/sagital_acl.h5')\n",
        "\n",
        "\n",
        "score = Sagital_abnormal.evaluate(sagittal_test_x, [abnornmal_test_y,abnornmal_test_y], verbose=0)\n",
        "print( score)"
      ],
      "execution_count": null,
      "outputs": [
        {
          "output_type": "stream",
          "text": [
            "[0.53804485698541, 0.39729127287864685, 0.386340469121933, 0.8166666626930237, 0.824999988079071]\n"
          ],
          "name": "stdout"
        }
      ]
    },
    {
      "cell_type": "code",
      "metadata": {
        "id": "6ii9Qw_G3vub",
        "colab_type": "code",
        "colab": {
          "base_uri": "https://localhost:8080/",
          "height": 34
        },
        "outputId": "3f30256a-e077-43b9-dfbb-3373e42b8f38"
      },
      "source": [
        "print(model.metrics_names)"
      ],
      "execution_count": null,
      "outputs": [
        {
          "output_type": "stream",
          "text": [
            "['loss', 'output_loss', 'auxilliary_output_1_loss', 'output_accuracy', 'auxilliary_output_1_accuracy']\n"
          ],
          "name": "stdout"
        }
      ]
    },
    {
      "cell_type": "code",
      "metadata": {
        "id": "KH7wFkVk38tW",
        "colab_type": "code",
        "colab": {}
      },
      "source": [
        ""
      ],
      "execution_count": null,
      "outputs": []
    }
  ]
}